{
 "cells": [
  {
   "cell_type": "code",
   "execution_count": 5,
   "metadata": {},
   "outputs": [],
   "source": [
    "import pandas as pd\n",
    "from pathlib import Path\n",
    "from typing import List"
   ]
  },
  {
   "cell_type": "code",
   "execution_count": 6,
   "metadata": {},
   "outputs": [],
   "source": [
    "ms1_path = Path(\"/home/oliver/Oliver.Mono/projects/Vision.OPT_MULT/data/csvs/ms_1.csv\")\n",
    "ms2_path = Path(\"/home/oliver/Oliver.Mono/projects/Vision.OPT_MULT/data/csvs/ms_2.csv\")\n",
    "\n",
    "team = \"curie\"\n",
    "gd1_path = Path(f\"/home/oliver/Oliver.Mono/projects/Vision.OPT_MULT/data/csvs/{team}_1.csv\")\n",
    "gd2_path = Path(f\"/home/oliver/Oliver.Mono/projects/Vision.OPT_MULT/data/csvs/{team}_2.csv\")\n",
    "\n",
    "ms1_df = pd.read_csv(ms1_path)\n",
    "ms2_df = pd.read_csv(ms2_path)\n",
    "\n",
    "gd1_df = pd.read_csv(gd1_path)\n",
    "gd2_df = pd.read_csv(gd2_path)"
   ]
  },
  {
   "cell_type": "code",
   "execution_count": 7,
   "metadata": {},
   "outputs": [],
   "source": [
    "def compare_ms_to_answers(ms: List[pd.DataFrame], ans: List[pd.DataFrame]):\n",
    "    result_list = []\n",
    "    for ms_single, ans_single in zip(ms, ans):\n",
    "        result_list.append(compare_answers(ans_single, ms_single))\n",
    "        print(result_list[-1])\n",
    "    \n",
    "    correct_answers = 0\n",
    "    unanswered = 0\n",
    "    wrong_answers = 0\n",
    "    for result in result_list:\n",
    "        correct_answers += result[\"consistent_rows\"]\n",
    "        unanswered += result[\"unanswered_rows\"]\n",
    "        wrong_answers += result[\"incorrect_rows\"]\n",
    "    print(f\"Total correct answers: {correct_answers}\")\n",
    "    print(f\"Total incorrect answers: {wrong_answers}\")\n",
    "    print(f\"Total questions: {correct_answers+unanswered+wrong_answers}\")\n",
    "\n",
    "def compare_answers(df1, df2):\n",
    "    if df1.shape != df2.shape:\n",
    "        raise ValueError(f\"DataFrames must have the same shape {df1.shape} {df2.shape}\")\n",
    "\n",
    "    consistent_indices = []\n",
    "    unanswered_indices = []\n",
    "    incorrect_indices = []\n",
    "    unanswered_count = 0\n",
    "    incorrect_count = 0\n",
    "    \n",
    "    for idx, (row1, row2) in enumerate(zip(df1.values, df2.values)):\n",
    "        if all(val1 == val2 for val1, val2 in zip(row1, row2)):\n",
    "            consistent_indices.append(idx)\n",
    "        else:\n",
    "            if all(val == \" \" for val in row1[1:]):\n",
    "                unanswered_indices.append(idx)\n",
    "                unanswered_count += 1\n",
    "            else:\n",
    "                incorrect_indices.append(idx)\n",
    "                incorrect_count += 1\n",
    "    \n",
    "    return {\n",
    "        'consistent_rows': len(consistent_indices),\n",
    "        'consistent_indices': consistent_indices,\n",
    "        'unanswered_rows': unanswered_count,\n",
    "        'unanswered_indices': unanswered_indices,\n",
    "        'incorrect_rows': incorrect_count,\n",
    "        'incorrect_indices': incorrect_indices\n",
    "    }"
   ]
  },
  {
   "cell_type": "code",
   "execution_count": 8,
   "metadata": {},
   "outputs": [
    {
     "name": "stdout",
     "output_type": "stream",
     "text": [
      "{'consistent_rows': 12, 'consistent_indices': [4, 6, 7, 8, 9, 12, 17, 19, 20, 25, 26, 29], 'unanswered_rows': 9, 'unanswered_indices': [2, 3, 5, 11, 13, 16, 21, 22, 24], 'incorrect_rows': 9, 'incorrect_indices': [0, 1, 10, 14, 15, 18, 23, 27, 28]}\n",
      "{'consistent_rows': 8, 'consistent_indices': [1, 6, 8, 9, 12, 19, 20, 26], 'unanswered_rows': 12, 'unanswered_indices': [0, 2, 3, 4, 5, 11, 13, 16, 17, 18, 22, 27], 'incorrect_rows': 9, 'incorrect_indices': [7, 10, 14, 15, 21, 23, 24, 25, 28]}\n",
      "Total correct answers: 20\n",
      "Total incorrect answers: 18\n",
      "Total questions: 59\n"
     ]
    }
   ],
   "source": [
    "results = compare_ms_to_answers(ms=[ms1_df, ms2_df], ans=[gd1_df, gd2_df])"
   ]
  }
 ],
 "metadata": {
  "kernelspec": {
   "display_name": "Python 3",
   "language": "python",
   "name": "python3"
  },
  "language_info": {
   "codemirror_mode": {
    "name": "ipython",
    "version": 3
   },
   "file_extension": ".py",
   "mimetype": "text/x-python",
   "name": "python",
   "nbconvert_exporter": "python",
   "pygments_lexer": "ipython3",
   "version": "3.10.12"
  }
 },
 "nbformat": 4,
 "nbformat_minor": 2
}
