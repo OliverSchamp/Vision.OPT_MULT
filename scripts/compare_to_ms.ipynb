{
 "cells": [
  {
   "cell_type": "code",
   "execution_count": null,
   "metadata": {},
   "outputs": [],
   "source": [
    "import pandas as pd\n",
    "from pathlib import Path\n",
    "from typing import List"
   ]
  },
  {
   "cell_type": "code",
   "execution_count": null,
   "metadata": {},
   "outputs": [],
   "source": [
    "ms1_path = Path(\"/home/oliver/Oliver.Mono/projects/Vision.OPT_MULT/data/csvs/ms_1.csv\")\n",
    "ms2_path = Path(\"/home/oliver/Oliver.Mono/projects/Vision.OPT_MULT/data/csvs/ms_2.csv\")\n",
    "\n",
    "team = \"baekeland\"\n",
    "gd1_path = Path(f\"/home/oliver/Oliver.Mono/projects/Vision.OPT_MULT/data/csvs/{team}_1.csv\")\n",
    "gd2_path = Path(f\"/home/oliver/Oliver.Mono/projects/Vision.OPT_MULT/data/csvs/{team}_2.csv\")\n",
    "\n",
    "ms1_df = pd.read_csv(ms1_path)\n",
    "ms2_df = pd.read_csv(ms2_path)\n",
    "\n",
    "gd1_df = pd.read_csv(gd1_path)\n",
    "gd2_df = pd.read_csv(gd2_path)"
   ]
  },
  {
   "cell_type": "code",
   "execution_count": null,
   "metadata": {},
   "outputs": [],
   "source": [
    "def compare_ms_to_answers(ms: List[pd.DataFrame], ans: List[pd.DataFrame]):\n",
    "    result_list = []\n",
    "    for ms_single, ans_single in zip(ms, ans):\n",
    "        result_list.append(compare_answers(ans_single, ms_single))\n",
    "        print(result_list[-1])\n",
    "    \n",
    "    correct_answers = 0\n",
    "    unanswered = 0\n",
    "    wrong_answers = 0\n",
    "    for result in result_list:\n",
    "        correct_answers += result[\"consistent_rows\"]\n",
    "        unanswered += result[\"unanswered_rows\"]\n",
    "        wrong_answers += result[\"incorrect_rows\"]\n",
    "    print(f\"Total correct answers: {correct_answers}\")\n",
    "    print(f\"Total incorrect answers: {wrong_answers}\")\n",
    "    print(f\"Total questions: {correct_answers+unanswered+wrong_answers}\")\n",
    "\n",
    "def compare_answers(df1, df2):\n",
    "    if df1.shape != df2.shape:\n",
    "        raise ValueError(f\"DataFrames must have the same shape {df1.shape} {df2.shape}\")\n",
    "\n",
    "    consistent_indices = []\n",
    "    unanswered_indices = []\n",
    "    incorrect_indices = []\n",
    "    unanswered_count = 0\n",
    "    incorrect_count = 0\n",
    "    \n",
    "    for idx, (row1, row2) in enumerate(zip(df1.values, df2.values)):\n",
    "        if all(val1 == val2 for val1, val2 in zip(row1, row2)):\n",
    "            consistent_indices.append(idx)\n",
    "        else:\n",
    "            if all(val == \" \" for val in row1[1:]):\n",
    "                unanswered_indices.append(idx)\n",
    "                unanswered_count += 1\n",
    "            else:\n",
    "                incorrect_indices.append(idx)\n",
    "                incorrect_count += 1\n",
    "    \n",
    "    return {\n",
    "        'consistent_rows': len(consistent_indices),\n",
    "        'consistent_indices': consistent_indices,\n",
    "        'unanswered_rows': unanswered_count,\n",
    "        'unanswered_indices': unanswered_indices,\n",
    "        'incorrect_rows': incorrect_count,\n",
    "        'incorrect_indices': incorrect_indices\n",
    "    }"
   ]
  },
  {
   "cell_type": "code",
   "execution_count": null,
   "metadata": {},
   "outputs": [],
   "source": [
    "results = compare_ms_to_answers(ms=[ms1_df, ms2_df], ans=[gd1_df, gd2_df])"
   ]
  }
 ],
 "metadata": {
  "kernelspec": {
   "display_name": "Python 3",
   "language": "python",
   "name": "python3"
  },
  "language_info": {
   "codemirror_mode": {
    "name": "ipython",
    "version": 3
   },
   "file_extension": ".py",
   "mimetype": "text/x-python",
   "name": "python",
   "nbconvert_exporter": "python",
   "pygments_lexer": "ipython3",
   "version": "3.10.6"
  }
 },
 "nbformat": 4,
 "nbformat_minor": 2
}
