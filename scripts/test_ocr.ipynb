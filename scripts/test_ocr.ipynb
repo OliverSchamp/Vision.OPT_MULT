{
 "cells": [
  {
   "cell_type": "code",
   "execution_count": null,
   "metadata": {},
   "outputs": [],
   "source": [
    "import cv2\n",
    "import numpy as np\n",
    "import easyocr\n",
    "import matplotlib.pyplot as plt"
   ]
  },
  {
   "cell_type": "code",
   "execution_count": null,
   "metadata": {},
   "outputs": [],
   "source": [
    "img = cv2.cvtColor(cv2.imread(\"/home/oliver/Oliver.Mono/projects/Vision.OPT_MULT/data/images/2.jpg\"), cv2.COLOR_BGR2GRAY)\n",
    "plt.imshow(img, cmap=\"gray\")"
   ]
  },
  {
   "cell_type": "code",
   "execution_count": null,
   "metadata": {},
   "outputs": [],
   "source": [
    "from typing import List, Tuple"
   ]
  },
  {
   "cell_type": "code",
   "execution_count": null,
   "metadata": {},
   "outputs": [],
   "source": [
    "reader = easyocr.Reader(['en'])  # 'en' is for English; you can add more languages\n",
    "\n",
    "# Perform OCR on the image\n",
    "results: List[Tuple[List[List[int, int]], str, float]] = reader.readtext(img)"
   ]
  },
  {
   "cell_type": "code",
   "execution_count": null,
   "metadata": {},
   "outputs": [],
   "source": [
    "print(results[0])\n",
    "print(results[1])"
   ]
  },
  {
   "cell_type": "code",
   "execution_count": null,
   "metadata": {},
   "outputs": [],
   "source": [
    "image_np = cv2.cvtColor(img, cv2.COLOR_GRAY2RGB)\n",
    "\n",
    "# Display results\n",
    "for (bbox, text, confidence) in results:\n",
    "    print(f\"Detected Text: {text}, Confidence: {confidence}\")\n",
    "    # Draw the bounding box on the original image\n",
    "    (top_left, top_right, bottom_right, bottom_left) = bbox\n",
    "    top_left = tuple(map(int, top_left))\n",
    "    bottom_right = tuple(map(int, bottom_right))\n",
    "    cv2.rectangle(image_np, top_left, bottom_right, (0, 255, 0), 2)\n",
    "    # Annotate image with detected text\n",
    "    cv2.putText(image_np, text, (top_left[0], top_left[1] - 10),\n",
    "                cv2.FONT_HERSHEY_SIMPLEX, 0.8, (0, 0, 255), 2)\n",
    "\n",
    "# Display the image with bounding boxes and detected text\n",
    "plt.figure(figsize=(10, 10))\n",
    "plt.imshow(cv2.cvtColor(image_np, cv2.COLOR_BGR2RGB))\n",
    "plt.axis(\"off\")\n",
    "plt.show()"
   ]
  }
 ],
 "metadata": {
  "kernelspec": {
   "display_name": "Python 3",
   "language": "python",
   "name": "python3"
  },
  "language_info": {
   "codemirror_mode": {
    "name": "ipython",
    "version": 3
   },
   "file_extension": ".py",
   "mimetype": "text/x-python",
   "name": "python",
   "nbconvert_exporter": "python",
   "pygments_lexer": "ipython3",
   "version": "3.10.6"
  }
 },
 "nbformat": 4,
 "nbformat_minor": 2
}
